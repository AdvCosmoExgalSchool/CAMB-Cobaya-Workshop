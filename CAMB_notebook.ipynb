{
 "cells": [
  {
   "cell_type": "code",
   "execution_count": null,
   "metadata": {},
   "outputs": [],
   "source": [
    "# Import some useful packages\n",
    "\n",
    "%matplotlib notebook\n",
    "import matplotlib.pyplot as plt\n",
    "import numpy as np"
   ]
  },
  {
   "cell_type": "code",
   "execution_count": null,
   "metadata": {},
   "outputs": [],
   "source": [
    "# Load camb\n",
    "\n",
    "import camb"
   ]
  },
  {
   "cell_type": "code",
   "execution_count": null,
   "metadata": {},
   "outputs": [],
   "source": [
    "# Define cosmological parameters\n",
    "\n",
    "H0 = 67\n",
    "ombh2 = 0.022\n",
    "omch2 = 0.12\n",
    "tau = 0.055\n",
    "As = 2.1e-9\n",
    "ns = 0.965"
   ]
  },
  {
   "cell_type": "markdown",
   "metadata": {},
   "source": [
    "# Section 1 : Plot the CMB temperature and polarization power spectra"
   ]
  },
  {
   "cell_type": "code",
   "execution_count": null,
   "metadata": {},
   "outputs": [],
   "source": [
    "# Create a CAMB params object\n",
    "\n",
    "pars = camb.set_params(''' cosmological parameters ''', lmax=3000)"
   ]
  },
  {
   "cell_type": "code",
   "execution_count": null,
   "metadata": {},
   "outputs": [],
   "source": [
    "# Compute results and get TT and EE power spectra\n",
    "\n",
    "results = camb.get_results(pars)\n",
    "powers = results.get_cmb_power_spectra()"
   ]
  },
  {
   "cell_type": "markdown",
   "metadata": {},
   "source": [
    "Help: get_cmb_power_spectra returns a dictionary containing the power spectra with keys\n",
    "    - total\n",
    "    - unlensed_scalar\n",
    "    - unlensed_total\n",
    "    - lensed_scalar\n",
    "    - tensor\n",
    "    - lens_potential\n",
    "The cl arrays are then ordered in the following order: TT, EE, BB, TE."
   ]
  },
  {
   "cell_type": "code",
   "execution_count": null,
   "metadata": {},
   "outputs": [],
   "source": [
    "# Plot the CMB temperature and EE polarization power spectra\n",
    "# Compare the lensed and unlensed spectra\n",
    "\n",
    "ls = np.arange(powers['total'].shape[0])\n",
    "\n",
    "# Plot TT\n",
    "plt.figure()\n",
    "\n",
    "# Plot EE\n",
    "plt.figure()"
   ]
  },
  {
   "cell_type": "markdown",
   "metadata": {},
   "source": [
    "# Section 2 : Plot the (linear and non-linear) matter power spectrum"
   ]
  },
  {
   "cell_type": "code",
   "execution_count": null,
   "metadata": {},
   "outputs": [],
   "source": [
    "# Create a CAMB params object and choose the redshifts (2 to 5 values) and scales \n",
    "# at which you want to compute the matter power spectrum\n",
    "\n",
    "pars = camb.set_params(H0=H0, ombh2=ombh2, omch2=omch2, tau=tau, As=As, ns=ns, lmax=3000, nonlinear=0)\n",
    "pars.set_matter_power(redshifts=[], kmax=)\n",
    "results = \n",
    "kh, z, pk = results.get_matter_power_spectrum(minkh=1e-4, maxkh=1, npoints = 200)"
   ]
  },
  {
   "cell_type": "code",
   "execution_count": null,
   "metadata": {},
   "outputs": [],
   "source": [
    "# Same but non-linear\n",
    "\n",
    "pars = \n",
    "pars.\n",
    "results = \n",
    "kh, z, pk_nonlinear = "
   ]
  },
  {
   "cell_type": "code",
   "execution_count": null,
   "metadata": {},
   "outputs": [],
   "source": [
    "# Plot the linear and non-linear power spectra at the redshifts chosen\n",
    "\n",
    "from matplotlib.lines import Line2D\n",
    "\n",
    "color = ['b', 'g', 'r', 'y', 'o']\n",
    "linear = Line2D([0], [0], color='black', linestyle=':')\n",
    "non_linear = Line2D([0], [0], color='black', linestyle='--')\n",
    "curves = [linear, non_linear]\n",
    "labels = ['Linear', 'Non linear']\n",
    "\n",
    "plt.figure()\n",
    "for k in range(len(pk)):\n",
    "    plt.loglog(kh, '''linear spectrum''', c=color[k], ls=':')\n",
    "    plt.loglog(kh,'''non linear spectrum''', c=color[k], ls='--')\n",
    "    z_k = Line2D([0], [0], color=color[k])\n",
    "    curves.append(z_k)\n",
    "    labels.append(f'z={z[k]}')\n",
    "\n",
    "# Add a legend with the custom lines\n",
    "plt.legend(curves, labels)\n",
    "plt.xlabel('k/h [1/Mpc]')"
   ]
  },
  {
   "cell_type": "markdown",
   "metadata": {},
   "source": [
    "# Section 3: Compute galaxy power spectra"
   ]
  },
  {
   "cell_type": "markdown",
   "metadata": {},
   "source": [
    "Let's assume that we have performed a galaxy survey. Those galaxies were observed in three different redshift bins and their redshift distribution can be modeled through Gaussians with means 0.2, 0.4, 0.6 and standard-deviations 0.05, 0.1, 0.12. Can you compute the galaxy power spectrum in each bin using CAMB?\n",
    "\n",
    "Help: To do so, you need to provide the galaxy kernel in each redshift bin. A galaxy kernel is simply the galaxy normalized (i.e. the integral over redshift must be 1) redshift distribution. The kernels can be provided to CAMB through the pars.SourceWindows field. This field expects a list, which in our case will be a list of SplinesSourceWindow objects, which can be constructed by specifying the redshift array z and the corresponding kernel W.\n",
    "\n",
    "Finally, the power spectra can be obtained using the get_source_cls_dict() object from the results object. The method will return a list of spectra containing the power spectra for the three redshift bins (\"W1xW1\", \"W2xW2\", \"W3xW3\") as well as the power spectrum of the CMB lensing deflection angle (\"PxP\") and all the possible cross-correlations between the galaxy bins and the CMB lensing deflection angle."
   ]
  },
  {
   "cell_type": "code",
   "execution_count": null,
   "metadata": {},
   "outputs": [],
   "source": [
    "z = np.linspace(0, 1, 100)\n",
    "dN_dz1 = \n",
    "\n",
    "# Normalize dN/dz to get W(z)\n",
    "W1 = "
   ]
  },
  {
   "cell_type": "code",
   "execution_count": null,
   "metadata": {},
   "outputs": [],
   "source": [
    "plt.figure()\n",
    "plt.plot(z,W1, label=\"W1\")\n",
    "plt.plot(z,W2, label=\"W2\")\n",
    "plt.plot(z,W3, label=\"W3\")\n",
    "plt.xlabel(\"z\")\n",
    "plt.ylabel(\"W\")\n",
    "plt.legend()"
   ]
  },
  {
   "cell_type": "code",
   "execution_count": null,
   "metadata": {},
   "outputs": [],
   "source": [
    "# Provide the kernels to CAMB and compute the power spectra\n",
    "\n",
    "from camb.sources import SplinedSourceWindow\n",
    "\n",
    "source_windows = []\n",
    "\n",
    "pars = \n",
    "\n",
    "# Assign the source window to the parameters\n",
    "pars.SourceWindows = \n",
    "\n",
    "# Calculate results\n",
    "results = \n",
    "cls = "
   ]
  },
  {
   "cell_type": "code",
   "execution_count": null,
   "metadata": {},
   "outputs": [],
   "source": [
    "# Plot the power spectra\n"
   ]
  },
  {
   "cell_type": "markdown",
   "metadata": {},
   "source": [
    "# Section 4 : Compute angular and comoving distances"
   ]
  },
  {
   "cell_type": "code",
   "execution_count": null,
   "metadata": {},
   "outputs": [],
   "source": [
    "# Create a CAMB params object\n",
    "\n",
    "pars = \n",
    "\n",
    "# Get results (here get_background is enough because we do not compute any power spectrum)\n",
    "\n",
    "results = "
   ]
  },
  {
   "cell_type": "code",
   "execution_count": null,
   "metadata": {},
   "outputs": [],
   "source": [
    "# Set a redshift array and compute corresponding angular diameter and comoving distances\n",
    "\n",
    "z = \n",
    "DA = results.\n",
    "chi = results.\n",
    "\n",
    "plt.figure()\n",
    "plt.plot(z, DA, label=\"Angular diameter distance\")\n",
    "plt.plot(z, chi, label=\"Comoving radial distance\")\n",
    "plt.xlabel('z')\n",
    "plt.legend()"
   ]
  },
  {
   "cell_type": "markdown",
   "metadata": {},
   "source": [
    "## Towards dark energy:\n",
    "Plot the angular diameter distance as a function of redshift for different dark energy equation of state parameters"
   ]
  },
  {
   "cell_type": "code",
   "execution_count": null,
   "metadata": {
    "scrolled": true
   },
   "outputs": [],
   "source": [
    "ws = np.linspace(-1.5, -0.5, 5)\n",
    "\n",
    "plt.figure()\n",
    "\n",
    "for w in ws:\n",
    "    pars = camb.set_params(H0=H0, ombh2=ombh2, omch2=omch2, tau=tau, As=As, ns=ns, \n",
    "                          w=w, wa=0, dark_energy_model='fluid')\n",
    "    \n",
    "    # Plot angular diameter distance as a function of redhsift\n",
    "    # ...\n",
    "    \n",
    "plt.legend()\n",
    "plt.xlabel('z')\n",
    "plt.ylabel('Angular diameter distance [Mpc]')"
   ]
  },
  {
   "cell_type": "markdown",
   "metadata": {},
   "source": [
    "# Bonus section: custom dark energy model"
   ]
  },
  {
   "cell_type": "markdown",
   "metadata": {},
   "source": [
    "Create an array w(a) for the dark energy equation of state parameter evolution as a function of scale factor a. Then plot the CMB power spectrum for this dark energy model and compare it with the standard LCDM case. "
   ]
  },
  {
   "cell_type": "code",
   "execution_count": null,
   "metadata": {},
   "outputs": [],
   "source": [
    "# Define how w evolves with a \n",
    "# beware w cannot \"cross\" -1 but should probably stay relatively \n",
    "# close to -1 if one wanted to fit the CMB power spectrum well.\n"
   ]
  },
  {
   "cell_type": "code",
   "execution_count": null,
   "metadata": {},
   "outputs": [],
   "source": [
    "# Plot this w as a function of a and/or z\n"
   ]
  },
  {
   "cell_type": "code",
   "execution_count": null,
   "metadata": {},
   "outputs": [],
   "source": [
    "# Create a dark energy object\n"
   ]
  },
  {
   "cell_type": "code",
   "execution_count": null,
   "metadata": {},
   "outputs": [],
   "source": [
    "# Create a CAMB params object and provide the dark energy object\n"
   ]
  },
  {
   "cell_type": "code",
   "execution_count": null,
   "metadata": {},
   "outputs": [],
   "source": [
    "# Compute results and get power spectra\n"
   ]
  },
  {
   "cell_type": "code",
   "execution_count": null,
   "metadata": {},
   "outputs": [],
   "source": [
    "# Get the LCDM power spectrum\n"
   ]
  },
  {
   "cell_type": "code",
   "execution_count": null,
   "metadata": {},
   "outputs": [],
   "source": [
    "# Plot the power spectra and compare with LCDM\n"
   ]
  }
 ],
 "metadata": {
  "kernelspec": {
   "display_name": "Python 3",
   "language": "python",
   "name": "python3"
  },
  "language_info": {
   "codemirror_mode": {
    "name": "ipython",
    "version": 3
   },
   "file_extension": ".py",
   "mimetype": "text/x-python",
   "name": "python",
   "nbconvert_exporter": "python",
   "pygments_lexer": "ipython3",
   "version": "3.8.3"
  }
 },
 "nbformat": 4,
 "nbformat_minor": 4
}
